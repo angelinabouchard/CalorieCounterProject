{
 "cells": [
  {
   "cell_type": "code",
   "execution_count": 4,
   "metadata": {},
   "outputs": [
    {
     "ename": "NameError",
     "evalue": "name 'Order' is not defined",
     "output_type": "error",
     "traceback": [
      "\u001b[0;31m---------------------------------------------------------------------------\u001b[0m",
      "\u001b[0;31mNameError\u001b[0m                                 Traceback (most recent call last)",
      "Cell \u001b[0;32mIn[4], line 1\u001b[0m\n\u001b[0;32m----> 1\u001b[0m \u001b[39mclass\u001b[39;00m \u001b[39mOrder\u001b[39;00m:\n\u001b[1;32m      2\u001b[0m     instances_counter \u001b[39m=\u001b[39m \u001b[39m0\u001b[39m\n\u001b[1;32m      4\u001b[0m     \u001b[39mdef\u001b[39;00m \u001b[39m__init__\u001b[39m(\u001b[39mself\u001b[39m, items, date):\n",
      "Cell \u001b[0;32mIn[4], line 11\u001b[0m, in \u001b[0;36mOrder\u001b[0;34m()\u001b[0m\n\u001b[1;32m      8\u001b[0m \u001b[39mdef\u001b[39;00m \u001b[39mget_order\u001b[39m(\u001b[39mself\u001b[39m):\n\u001b[1;32m      9\u001b[0m     \u001b[39mreturn\u001b[39;00m \u001b[39mf\u001b[39m\u001b[39m\"\u001b[39m\u001b[39m{\u001b[39;00m\u001b[39mself\u001b[39m\u001b[39m.\u001b[39mitems()\u001b[39m}\u001b[39;00m\u001b[39m \u001b[39m\u001b[39m{\u001b[39;00m\u001b[39mself\u001b[39m\u001b[39m.\u001b[39mdate()\u001b[39m}\u001b[39;00m\u001b[39m\"\u001b[39m\n\u001b[0;32m---> 11\u001b[0m order1 \u001b[39m=\u001b[39m Order\n",
      "\u001b[0;31mNameError\u001b[0m: name 'Order' is not defined"
     ]
    }
   ],
   "source": [
    "class Order:\n",
    "    instances_counter = 0\n",
    "\n",
    "    def __init__(self, items, date):\n",
    "        self.items = items\n",
    "        self.date = date\n",
    "\n",
    "    def get_order(self):\n",
    "        return f\"{self.items()} {self.date()}\"\n",
    "    \n",
    "    order1 = Order\n",
    "\n",
    "\n",
    "class Order:\n",
    "    \"\"\"\n",
    "    This class represents an order.\n",
    "\n",
    "    Arguments:\n",
    "        items (list): A list of item ids.\n",
    "        date (datetime): The date and time of the order.\n",
    "\n",
    "    Class attributes:\n",
    "        counter (int): A counter for the number of orders.\n",
    "\n",
    "    Attributes:\n",
    "        order_id (str): A unique identifier for the order.\n",
    "        order_accepted (bool): Whether or not the order was accepted.\n",
    "        order_refused_reason (str): The reason the order was refused.\n",
    "        date (datetime): The date and time of the order.\n",
    "        items (list): A list of item ids.\n",
    "\n",
    "    Properties:\n",
    "        calories (int): The total calories for the order.\n",
    "        price (int): The total price for the order.\n",
    "    \"\"\"\n",
    "    counter = 0\n",
    "\n",
    "    def __init__(self, items, date=None):\n",
    "        pass\n",
    "\n",
    "    "
   ]
  }
 ],
 "metadata": {
  "kernelspec": {
   "display_name": "Python 3",
   "language": "python",
   "name": "python3"
  },
  "language_info": {
   "codemirror_mode": {
    "name": "ipython",
    "version": 3
   },
   "file_extension": ".py",
   "mimetype": "text/x-python",
   "name": "python",
   "nbconvert_exporter": "python",
   "pygments_lexer": "ipython3",
   "version": "3.9.6"
  },
  "orig_nbformat": 4
 },
 "nbformat": 4,
 "nbformat_minor": 2
}
